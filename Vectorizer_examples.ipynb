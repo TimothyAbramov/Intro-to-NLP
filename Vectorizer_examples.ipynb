{
 "cells": [
  {
   "cell_type": "code",
   "execution_count": 49,
   "metadata": {},
   "outputs": [],
   "source": [
    "#imports\n",
    "from nltk.tokenize import sent_tokenize, word_tokenize\n",
    "from gensim.corpora.dictionary import Dictionary\n",
    "from gensim.models import TfidfModel\n",
    "from collections import Counter\n",
    "import re\n"
   ]
  },
  {
   "cell_type": "code",
   "execution_count": 2,
   "metadata": {},
   "outputs": [],
   "source": [
    "#get file in\n",
    "kjv = None\n",
    "with open('data/kjv.txt', 'r') as file:\n",
    "    # Read the entire file content\n",
    "    kjv = file.read()"
   ]
  },
  {
   "cell_type": "code",
   "execution_count": 30,
   "metadata": {},
   "outputs": [],
   "source": [
    "#preprocess\n",
    "#remove first 2 lines\n",
    "kjv_lines = kjv.splitlines()\n",
    "kjv_lines = kjv_lines[2:]\n",
    "\n",
    "#keep only Genesis\n",
    "genesis_lines = kjv_lines[:1533]\n",
    "\n",
    "#remove the book/chapter/verse info\n",
    "pattern = r\"^.*?\\d+:\\d+.\"\n",
    "for i, line in enumerate(genesis_lines):\n",
    "    genesis_lines[i] = (re.sub(pattern, \"\", line))\n",
    "\n",
    "#just Genesis text\n",
    "genesis = ''.join(genesis_lines)"
   ]
  },
  {
   "cell_type": "code",
   "execution_count": 40,
   "metadata": {},
   "outputs": [
    {
     "name": "stdout",
     "output_type": "stream",
     "text": [
      "[(',', 3688), ('and', 2719), ('the', 2443), ('of', 1359), ('[', 1039), (']', 1039), (':', 673), ('his', 653), ('he', 649), ('to', 611), (';', 608), ('in', 594), ('unto', 594), ('that', 520), ('i', 477), ('said', 476), ('him', 348), ('my', 342), ('a', 340), ('was', 317)]\n"
     ]
    }
   ],
   "source": [
    "#bag of words\n",
    "counter = Counter(word_tokenize(genesis.lower()))\n",
    "print(counter.most_common(20))"
   ]
  },
  {
   "cell_type": "code",
   "execution_count": 63,
   "metadata": {},
   "outputs": [],
   "source": [
    "#tdidf\n",
    "tokenized_docs = [word_tokenize(doc.lower()) for doc in genesis_lines]\n",
    "dictionary = Dictionary(tokenized_docs)\n",
    "corpus = [dictionary.doc2bow(doc) for doc in tokenized_docs]\n",
    "tfidf = TfidfModel(corpus)"
   ]
  },
  {
   "cell_type": "code",
   "execution_count": 84,
   "metadata": {},
   "outputs": [],
   "source": [
    "#comparisons\n",
    "#bag of words\n",
    "bow_lines = [Counter(word_tokenize(line.lower())) for line in genesis_lines]\n",
    "\n",
    "\n",
    "#tfidf\n",
    "tfidf_lines = [tfidf[doc] for doc in corpus]\n"
   ]
  },
  {
   "cell_type": "code",
   "execution_count": 85,
   "metadata": {},
   "outputs": [
    {
     "name": "stdout",
     "output_type": "stream",
     "text": [
      "[('the', 3), ('in', 1), ('beginning', 1), ('god', 1), ('created', 1)]\n",
      "[('the', 6), ('and', 4), ('of', 3), ('was', 2), ('upon', 2)]\n",
      "[('and', 2), ('there', 2), ('light', 2), ('god', 1), ('said', 1)]\n",
      "[('the', 3), ('and', 2), ('god', 2), ('light', 2), ('saw', 1)]\n",
      "[('the', 5), ('and', 4), ('called', 2), ('day', 2), ('.', 2)]\n"
     ]
    }
   ],
   "source": [
    "#print bow\n",
    "for i in range(0,5):\n",
    "    print(bow_lines[i].most_common(5))"
   ]
  },
  {
   "cell_type": "code",
   "execution_count": 101,
   "metadata": {},
   "outputs": [
    {
     "name": "stdout",
     "output_type": "stream",
     "text": [
      "(\"beginning\", 0.6)  (\"created\", 0.55)  (\"heaven\", 0.42)  (\"earth\", 0.29)  (\"god\", 0.21)  \n",
      "(\"form\", 0.37)  (\"void\", 0.37)  (\"face\", 0.35)  (\"moved\", 0.33)  (\"darkness\", 0.29)  \n",
      "(\"light\", 0.82)  (\"there\", 0.42)  (\"let\", 0.24)  (\"god\", 0.16)  (\"be\", 0.16)  \n",
      "(\"light\", 0.7)  (\"darkness\", 0.38)  (\"divided\", 0.34)  (\"god\", 0.27)  (\"good\", 0.24)  \n",
      "(\"day\", 0.41)  (\"darkness\", 0.38)  (\"called\", 0.37)  (\"light\", 0.35)  (\"evening\", 0.33)  \n"
     ]
    }
   ],
   "source": [
    "#print tf-idf weights\n",
    "for i in range(0,5):\n",
    "    sorted_tfidf = sorted(tfidf_lines[i], key=lambda w: w[1], reverse=True)\n",
    "\n",
    "    for term_id, weight in sorted_tfidf[:5]:\n",
    "        print(\"(\\\"\", dictionary.get(term_id), \"\\\", \", round(weight, 2), \") \", sep=\"\", end=\" \")\n",
    "\n",
    "    print()"
   ]
  }
 ],
 "metadata": {
  "kernelspec": {
   "display_name": "NLP",
   "language": "python",
   "name": "python3"
  },
  "language_info": {
   "codemirror_mode": {
    "name": "ipython",
    "version": 3
   },
   "file_extension": ".py",
   "mimetype": "text/x-python",
   "name": "python",
   "nbconvert_exporter": "python",
   "pygments_lexer": "ipython3",
   "version": "3.11.9"
  }
 },
 "nbformat": 4,
 "nbformat_minor": 2
}
