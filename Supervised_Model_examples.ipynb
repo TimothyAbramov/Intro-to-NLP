{
 "cells": [
  {
   "cell_type": "code",
   "execution_count": 83,
   "metadata": {},
   "outputs": [],
   "source": [
    "import pandas as pd\n",
    "import numpy as np\n",
    "import re\n",
    "from sklearn.feature_extraction.text import CountVectorizer, TfidfVectorizer\n",
    "from sklearn.model_selection import train_test_split\n",
    "from sklearn import metrics\n",
    "from sklearn.naive_bayes import MultinomialNB\n"
   ]
  },
  {
   "cell_type": "code",
   "execution_count": 153,
   "metadata": {},
   "outputs": [],
   "source": [
    "#put the data together\n",
    "\n",
    "#get file in\n",
    "kjv = None\n",
    "with open('data/kjv.txt', 'r') as file:\n",
    "    # Read the entire file content\n",
    "    kjv = file.read()\n",
    "kjv = kjv.lower()\n",
    "\n",
    "#preprocess\n",
    "#remove first 2 lines\n",
    "kjv_verses = kjv.splitlines()\n",
    "kjv_verses = kjv_verses[2:]\n",
    "\n",
    "#create DataFrame with labels\n",
    "verses_data = pd.DataFrame({'text': kjv_verses})\n",
    "first_new_testament_verse = int(23145)\n",
    "verses_data['new_testament'] = np.concatenate((np.zeros(first_new_testament_verse, dtype=np.int8), np.ones(len(kjv_verses) - first_new_testament_verse, dtype=np.int8)))\n",
    "\n",
    "#remove the Book ch:verse combo\n",
    "pattern = r\"^.*?\\d+:\\d+.\"\n",
    "for i, row in verses_data.iterrows():\n",
    "    verses_data.iloc[i,0] = (re.sub(pattern, \"\", row.iloc[0]))\n",
    "\n"
   ]
  },
  {
   "cell_type": "code",
   "execution_count": 154,
   "metadata": {},
   "outputs": [
    {
     "data": {
      "text/html": [
       "<div>\n",
       "<style scoped>\n",
       "    .dataframe tbody tr th:only-of-type {\n",
       "        vertical-align: middle;\n",
       "    }\n",
       "\n",
       "    .dataframe tbody tr th {\n",
       "        vertical-align: top;\n",
       "    }\n",
       "\n",
       "    .dataframe thead th {\n",
       "        text-align: right;\n",
       "    }\n",
       "</style>\n",
       "<table border=\"1\" class=\"dataframe\">\n",
       "  <thead>\n",
       "    <tr style=\"text-align: right;\">\n",
       "      <th></th>\n",
       "      <th>text</th>\n",
       "      <th>new_testament</th>\n",
       "    </tr>\n",
       "  </thead>\n",
       "  <tbody>\n",
       "    <tr>\n",
       "      <th>23144</th>\n",
       "      <td>and he shall turn the heart of the fathers to ...</td>\n",
       "      <td>0</td>\n",
       "    </tr>\n",
       "    <tr>\n",
       "      <th>23145</th>\n",
       "      <td>the book of the generation of jesus christ, th...</td>\n",
       "      <td>1</td>\n",
       "    </tr>\n",
       "    <tr>\n",
       "      <th>23146</th>\n",
       "      <td>abraham begat isaac; and isaac begat jacob; an...</td>\n",
       "      <td>1</td>\n",
       "    </tr>\n",
       "    <tr>\n",
       "      <th>23147</th>\n",
       "      <td>and judas begat phares and zara of thamar; and...</td>\n",
       "      <td>1</td>\n",
       "    </tr>\n",
       "    <tr>\n",
       "      <th>23148</th>\n",
       "      <td>and aram begat aminadab; and aminadab begat na...</td>\n",
       "      <td>1</td>\n",
       "    </tr>\n",
       "    <tr>\n",
       "      <th>...</th>\n",
       "      <td>...</td>\n",
       "      <td>...</td>\n",
       "    </tr>\n",
       "    <tr>\n",
       "      <th>31097</th>\n",
       "      <td>and the spirit and the bride say, come. and le...</td>\n",
       "      <td>1</td>\n",
       "    </tr>\n",
       "    <tr>\n",
       "      <th>31098</th>\n",
       "      <td>for i testify unto every man that heareth the ...</td>\n",
       "      <td>1</td>\n",
       "    </tr>\n",
       "    <tr>\n",
       "      <th>31099</th>\n",
       "      <td>and if any man shall take away from the words ...</td>\n",
       "      <td>1</td>\n",
       "    </tr>\n",
       "    <tr>\n",
       "      <th>31100</th>\n",
       "      <td>he which testifieth these things saith, surely...</td>\n",
       "      <td>1</td>\n",
       "    </tr>\n",
       "    <tr>\n",
       "      <th>31101</th>\n",
       "      <td>the grace of our lord jesus christ [be] with y...</td>\n",
       "      <td>1</td>\n",
       "    </tr>\n",
       "  </tbody>\n",
       "</table>\n",
       "<p>7958 rows × 2 columns</p>\n",
       "</div>"
      ],
      "text/plain": [
       "                                                    text  new_testament\n",
       "23144  and he shall turn the heart of the fathers to ...              0\n",
       "23145  the book of the generation of jesus christ, th...              1\n",
       "23146  abraham begat isaac; and isaac begat jacob; an...              1\n",
       "23147  and judas begat phares and zara of thamar; and...              1\n",
       "23148  and aram begat aminadab; and aminadab begat na...              1\n",
       "...                                                  ...            ...\n",
       "31097  and the spirit and the bride say, come. and le...              1\n",
       "31098  for i testify unto every man that heareth the ...              1\n",
       "31099  and if any man shall take away from the words ...              1\n",
       "31100  he which testifieth these things saith, surely...              1\n",
       "31101  the grace of our lord jesus christ [be] with y...              1\n",
       "\n",
       "[7958 rows x 2 columns]"
      ]
     },
     "execution_count": 154,
     "metadata": {},
     "output_type": "execute_result"
    }
   ],
   "source": [
    "verses_data.iloc[first_new_testament_verse-1:, :]"
   ]
  },
  {
   "cell_type": "code",
   "execution_count": 155,
   "metadata": {},
   "outputs": [
    {
     "data": {
      "text/plain": [
       "(31102, 2)"
      ]
     },
     "execution_count": 155,
     "metadata": {},
     "output_type": "execute_result"
    }
   ],
   "source": [
    "verses_data.shape"
   ]
  },
  {
   "cell_type": "code",
   "execution_count": 159,
   "metadata": {},
   "outputs": [],
   "source": [
    "#split by train and test data\n",
    "X_train, X_test, y_train, y_test = train_test_split(verses_data[\"text\"], verses_data[\"new_testament\"],\n",
    "test_size=0.33, random_state=69420)\n"
   ]
  },
  {
   "cell_type": "code",
   "execution_count": 160,
   "metadata": {},
   "outputs": [
    {
     "name": "stdout",
     "output_type": "stream",
     "text": [
      "0.9217653936087296\n",
      "[[7277  324]\n",
      " [ 479 2184]]\n"
     ]
    }
   ],
   "source": [
    "#countVectorizer train & fit\n",
    "count_vectorizer = CountVectorizer(stop_words=\"english\")\n",
    "count_train = count_vectorizer.fit_transform(X_train)\n",
    "count_test = count_vectorizer.transform(X_test)\n",
    "#print(count_vectorizer.get_feature_names()[:10])\n",
    "\n",
    "nb_classifier = MultinomialNB()\n",
    "nb_classifier.fit(count_train, y_train)\n",
    "\n",
    "pred = nb_classifier.predict(count_test)\n",
    "\n",
    "score = metrics.accuracy_score(y_test, pred)\n",
    "print(score)\n",
    "\n",
    "cm = metrics.confusion_matrix(y_test, pred, labels = [0, 1])\n",
    "print(cm)"
   ]
  },
  {
   "cell_type": "code",
   "execution_count": 166,
   "metadata": {},
   "outputs": [
    {
     "data": {
      "text/plain": [
       "(20838, 10723)"
      ]
     },
     "execution_count": 166,
     "metadata": {},
     "output_type": "execute_result"
    }
   ],
   "source": [
    "count_train.shape"
   ]
  },
  {
   "cell_type": "code",
   "execution_count": 161,
   "metadata": {},
   "outputs": [
    {
     "name": "stdout",
     "output_type": "stream",
     "text": [
      "0.890003897116134\n",
      "[[7572   29]\n",
      " [1100 1563]]\n"
     ]
    }
   ],
   "source": [
    "#tfidf train & fit\n",
    "tfidf_vectorizer = TfidfVectorizer(stop_words=\"english\", max_df=0.7)\n",
    "tfidf_train = tfidf_vectorizer.fit_transform(X_train)\n",
    "tfidf_test = tfidf_vectorizer.transform(X_test)\n",
    "#print(tfidf_vectorizer.get_feature_names()[:10])\n",
    "#print(tfidf_train.A[:1].shape)\n",
    "\n",
    "nb_classifier = MultinomialNB()\n",
    "nb_classifier.fit(tfidf_train, y_train)\n",
    "pred = nb_classifier.predict(tfidf_test)\n",
    "\n",
    "score = metrics.accuracy_score(y_test, pred)\n",
    "print(score)\n",
    "cm = metrics.confusion_matrix(y_test, pred, labels = [0, 1])\n",
    "print(cm)\n"
   ]
  },
  {
   "cell_type": "code",
   "execution_count": 167,
   "metadata": {},
   "outputs": [
    {
     "data": {
      "text/plain": [
       "(20838, 10723)"
      ]
     },
     "execution_count": 167,
     "metadata": {},
     "output_type": "execute_result"
    }
   ],
   "source": [
    "tfidf_train.shape"
   ]
  }
 ],
 "metadata": {
  "kernelspec": {
   "display_name": "NLP",
   "language": "python",
   "name": "python3"
  },
  "language_info": {
   "codemirror_mode": {
    "name": "ipython",
    "version": 3
   },
   "file_extension": ".py",
   "mimetype": "text/x-python",
   "name": "python",
   "nbconvert_exporter": "python",
   "pygments_lexer": "ipython3",
   "version": "3.11.9"
  }
 },
 "nbformat": 4,
 "nbformat_minor": 2
}
